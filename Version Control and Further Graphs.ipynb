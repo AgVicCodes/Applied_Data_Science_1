{
 "cells": [
  {
   "cell_type": "markdown",
   "id": "20c48fbb-a6d3-42fb-85b2-9a9197226a50",
   "metadata": {},
   "source": [
    "# Applied Data Science 1\n",
    "### Dr. William Cooper\n",
    "## Version Control\n",
    "Code is always changing.\n",
    "How can we control this?\n",
    "By 'versioning'.\n",
    "Several software packages already exist which control and track changes between versions.\n",
    "The most used of these are subversion (SVN) and Git.\n",
    "We will focus in this course on just Git, including the website wrapper, [GitHub](https://github.com/).\n",
    "<strong>If you do not already have an account, you should definitely create one as soon as possible.</strong>\n",
    "Most companies/industries will request to view your public GitHub profile to get an idea of your 'portfolio'."
   ]
  },
  {
   "cell_type": "markdown",
   "id": "be6a6d23-3cd0-4a78-8d92-309a441b6f10",
   "metadata": {},
   "source": [
    "## What is Git?\n",
    "\n",
    "Git is a version control system that allows multiple people to work on a project at the same time. It helps in tracking changes in source code, enabling multiple contributors to work collaboratively and independently. It is installed in the PC labs on campus. Note that with the command line, it is best to use SSH or CLI for secure authentication, over standard HTTPS links. There are also several different GUIs available with slightly different teminology, but the same pattern follows.\n",
    "\n",
    "### 1. **Creating a Repository (Repo)**\n",
    "   - A repository is like a project folder, containing all your project files and their history.\n",
    "   - **GitHub:** Go to GitHub, click on \"New repository\", name your repository, and then click \"Create repository\".\n",
    "   - **GUI:** Use tools like GitHub Desktop. Click on “File” > “New Repository” and follow the instructions.\n",
    "   - **Command Line:** `git init`\n",
    "\n",
    "### 2. **Cloning a Repository**\n",
    "   - Cloning creates a local copy of a remote repository on your computer.\n",
    "   - **GitHub:** Click the green \"Code\" button on the repository page and copy the URL.\n",
    "   - **GUI:** Select “Clone Repository” and paste the URL.\n",
    "   - **Command Line:** `git clone [URL]`\n",
    "\n",
    "### 3. **Committing Changes**\n",
    "   - A commit is a record of what changes you have made since the last commit.\n",
    "   - **GUI:** After making changes, you'll see a list of modified files. Add a good message describing your changes and click \"Commit\".\n",
    "   - **Command Line:**\n",
    "```bash\n",
    "git status  # to see the list of changed files\n",
    "git add <whatever files>  # to stage those files for commiting\n",
    "# additionally as appropriate\n",
    "git rm <files>  # deleting files from git\n",
    "git mv <files>  # moving/renaming files\n",
    "git commit -m \"Your commit message\"  # to place the commit\n",
    "# alternatively\n",
    "git commit -a -m \"Your commit message\"  # staging all modified files and placing commit\n",
    "```\n",
    "\n",
    "### 4. **Pushing Changes**\n",
    "   - Pushing means uploading your committed changes to a remote repository.\n",
    "   - **GitHub:** Click the \"Add files\" button next to the green \"Code\" button.\n",
    "   - **GUI:** Click the \"Push\" button to upload your changes.\n",
    "   - **Command Line:**\n",
    "```bash\n",
    "git remote -v  # see the remote sources like origin and upstream\n",
    "git push origin [branch-name]  # push the staged commit(s)\n",
    "# you may need, if there are multiple branches that you want to edit\n",
    "git push --set-upstream <origin/upstream> [branch-name]\n",
    "# often, just\n",
    "git push  # needed\n",
    "```\n",
    "\n",
    "### 5. **Pulling Changes**\n",
    "   - Pulling is the act of downloading changes from the remote repository to your local repository.\n",
    "   - **GUI:** Click the \"Pull\" button to fetch and merge changes from the remote repository.\n",
    "   - **Command Line:** `git pull origin [branch-name]` or just `git pull`\n",
    "\n",
    "## Why Use Git?\n",
    "\n",
    "- **Collaboration:** Multiple people can work on the same project simultaneously.\n",
    "- **History Tracking:** Every change is recorded, so you can revert to previous versions if needed.\n",
    "- **Branching and Merging:** Work on new features or fixes in separate branches without affecting the main project, then merge them when ready.\n",
    "\n",
    "## Remote, Origin, and Upstream\n",
    "\n",
    "### Remote\n",
    "- A **remote** in Git is a common repository that all team members use to exchange their changes. It's usually hosted on a server like GitHub.\n",
    "- In simpler terms, it's a version of your project that resides on the internet or network, where you can push your changes, pull others' changes, and keep the local and remote repositories in sync.\n",
    "\n",
    "### Origin\n",
    "- **Origin** is the default name Git gives to the server repository you cloned from.\n",
    "- It's like a bookmark for the remote repository. When you run commands like `git push` or `git pull`, Git knows to push/pull to/from the `origin` remote.\n",
    "- It's not a fixed name; you can change it or have multiple different remotes for the same local repository.\n",
    "\n",
    "### Upstream\n",
    "- **Upstream** usually refers to the main project that you forked from on platforms like GitHub.\n",
    "- When you fork a project, you create your own copy. Setting the original project as `upstream` allows you to keep your fork updated with the changes made in the original repository.\n",
    "- This is especially important in open-source projects where many contributors work on different aspects simultaneously.\n",
    "\n",
    "## Why Version Code?\n",
    "You will have seen this on various softwares, including python, e.g. python 2.7, 3.6, 3.7, 3.8... 3.12.\n",
    "There are a few different ideologies with this but a common one is <major version>.<minor version>.<bug/hot fixes>.\n",
    "On GitHub this is done by drafting a release or 'tag'.\n",
    "\n",
    "1. **Track Changes:** Version control keeps a history of who changed what and when. This is crucial for understanding how and why your project evolves over time.\n",
    "\n",
    "2. **Revert Mistakes:** If something goes wrong, you can easily revert to a previous stable version of your code.\n",
    "\n",
    "3. **Parallel Development:** Different team members can work on separate features at the same time without interfering with each other. Branches in Git facilitate this parallel development.\n",
    "\n",
    "4. **Review and Accountability:** Version control allows for code reviews and keeping track of who made specific changes, improving quality assurance.\n",
    "\n",
    "5. **Document History:** The commit history acts as a documentation of the changes made over time. Each commit message provides context about a particular change.\n",
    "\n",
    "### Merging\n",
    "- **Merging** is the process of combining changes from different branches into a single branch.\n",
    "- In GitHub or GUI tools, merging can often be done with a simple click. For example, in a Pull Request on GitHub, you can merge the feature branch into the main branch by clicking \"Merge pull request\".\n",
    "\n",
    "#### Merge Conflicts\n",
    "- **Merge conflicts** occur when Git is unable to automatically resolve differences in code between two commits.\n",
    "- Conflicts typically happen when two branches have changed the same part of the same file.\n",
    "- GUI tools often provide a visual representation of conflicts, making it easier to see and resolve them.\n",
    "- **Command Line:** You'll need to manually edit the files to resolve conflicts, mark them as resolved (`git add [file]`), and then complete the merge with a commit.\n",
    "\n",
    "### Managing Dependencies with `requirements.txt`\n",
    "\n",
    "- In Python projects, `requirements.txt` is used to list all the dependencies (libraries/packages) your project needs.\n",
    "- This file is crucial for version control as it ensures everyone working on the project uses the same versions of dependencies, which reduces compatibility issues.\n",
    "- To create a `requirements.txt` file, run `pip freeze > requirements.txt` in your project's environment.\n",
    "- To install dependencies from this file, use `pip install -r requirements.txt`.\n",
    "\n",
    "### Pull Requests (PRs)\n",
    "- PRs are a feature of platforms like GitHub, where you propose your changes and request that someone reviews and pulls your contribution into their branch.\n",
    "- PRs are essential for code review and collaboration in a team.\n",
    "\n",
    "### Continuous Integration/Continuous Deployment (CI/CD)\n",
    "- CI/CD are practices in software development designed to improve code quality and streamline the process of integrating new code and deploying it.\n",
    "- Tools like GitHub Actions can automate testing and deployment processes.\n",
    "\n",
    "### .gitignore File\n",
    "- The `.gitignore` file tells Git which files or folders to ignore in a project.\n",
    "- It's important for keeping your repository clean from unnecessary files like build outputs, temporary files, or sensitive information.\n"
   ]
  },
  {
   "cell_type": "markdown",
   "id": "89f54ca7-a6ef-45fd-90eb-4fa50d46766b",
   "metadata": {},
   "source": [
    "# Exercise 1\n",
    "Create a GitHub account if you have not already, and a new repository called 'Applied Data Science 1'.\n",
    "- Write something meaningful in the description box.\n",
    "- Keep as **public**.\n",
    "- Add a `README` (you will write important information in there later).\n",
    "- Add a `.gitignore` (use the Python template).\n",
    "- Add a licence, BSD-3 or MIT are the most typical ones for open source code.\n",
    "\n",
    "Fill out the `README` form, describing what this repo will be about (it will be a store for your work on this module).\n",
    "*Clone* this repository to your local machine and move this notebook into it.\n",
    "Upload the notebook into the GitHub repository using whatever method.\n",
    "## End Exercise 1\n",
    "\n",
    "## Further Graphs\n",
    "We previously looked at some statistical graphs, but let's go even further today:"
   ]
  },
  {
   "cell_type": "code",
   "execution_count": 1,
   "id": "e09064a5-e52e-4ad2-a06a-bc24df91f0e6",
   "metadata": {},
   "outputs": [],
   "source": [
    "import matplotlib.pyplot as plt\n",
    "import numpy as np\n",
    "import pandas as pd\n",
    "import seaborn as sns"
   ]
  },
  {
   "cell_type": "code",
   "execution_count": 2,
   "id": "9058b0d7-2f92-4aff-a705-44b8cdb6b08c",
   "metadata": {},
   "outputs": [
    {
     "ename": "FileNotFoundError",
     "evalue": "[Errno 2] No such file or directory: 'Data/measurements.csv'",
     "output_type": "error",
     "traceback": [
      "\u001b[1;31m---------------------------------------------------------------------------\u001b[0m",
      "\u001b[1;31mFileNotFoundError\u001b[0m                         Traceback (most recent call last)",
      "Cell \u001b[1;32mIn[2], line 1\u001b[0m\n\u001b[1;32m----> 1\u001b[0m df \u001b[38;5;241m=\u001b[39m \u001b[43mpd\u001b[49m\u001b[38;5;241;43m.\u001b[39;49m\u001b[43mread_csv\u001b[49m\u001b[43m(\u001b[49m\u001b[38;5;124;43m'\u001b[39;49m\u001b[38;5;124;43mData/measurements.csv\u001b[39;49m\u001b[38;5;124;43m'\u001b[39;49m\u001b[43m,\u001b[49m\u001b[43m \u001b[49m\u001b[43mindex_col\u001b[49m\u001b[38;5;241;43m=\u001b[39;49m\u001b[38;5;241;43m0\u001b[39;49m\u001b[43m)\u001b[49m\u001b[38;5;241m.\u001b[39msort_values(\u001b[38;5;124m'\u001b[39m\u001b[38;5;124mphase\u001b[39m\u001b[38;5;124m'\u001b[39m)\n\u001b[0;32m      2\u001b[0m \u001b[38;5;66;03m# Assuming this should be a sine wave\u001b[39;00m\n\u001b[0;32m      3\u001b[0m x \u001b[38;5;241m=\u001b[39m np\u001b[38;5;241m.\u001b[39mlinspace(\u001b[38;5;241m0.0\u001b[39m, \u001b[38;5;241m2.0\u001b[39m\u001b[38;5;241m*\u001b[39mnp\u001b[38;5;241m.\u001b[39mpi, \u001b[38;5;241m1000\u001b[39m)\n",
      "File \u001b[1;32mC:\\Program Files (x86)\\Microsoft Visual Studio\\Shared\\Anaconda3_64\\lib\\site-packages\\pandas\\util\\_decorators.py:211\u001b[0m, in \u001b[0;36mdeprecate_kwarg.<locals>._deprecate_kwarg.<locals>.wrapper\u001b[1;34m(*args, **kwargs)\u001b[0m\n\u001b[0;32m    209\u001b[0m     \u001b[38;5;28;01melse\u001b[39;00m:\n\u001b[0;32m    210\u001b[0m         kwargs[new_arg_name] \u001b[38;5;241m=\u001b[39m new_arg_value\n\u001b[1;32m--> 211\u001b[0m \u001b[38;5;28;01mreturn\u001b[39;00m \u001b[43mfunc\u001b[49m\u001b[43m(\u001b[49m\u001b[38;5;241;43m*\u001b[39;49m\u001b[43margs\u001b[49m\u001b[43m,\u001b[49m\u001b[43m \u001b[49m\u001b[38;5;241;43m*\u001b[39;49m\u001b[38;5;241;43m*\u001b[39;49m\u001b[43mkwargs\u001b[49m\u001b[43m)\u001b[49m\n",
      "File \u001b[1;32mC:\\Program Files (x86)\\Microsoft Visual Studio\\Shared\\Anaconda3_64\\lib\\site-packages\\pandas\\util\\_decorators.py:331\u001b[0m, in \u001b[0;36mdeprecate_nonkeyword_arguments.<locals>.decorate.<locals>.wrapper\u001b[1;34m(*args, **kwargs)\u001b[0m\n\u001b[0;32m    325\u001b[0m \u001b[38;5;28;01mif\u001b[39;00m \u001b[38;5;28mlen\u001b[39m(args) \u001b[38;5;241m>\u001b[39m num_allow_args:\n\u001b[0;32m    326\u001b[0m     warnings\u001b[38;5;241m.\u001b[39mwarn(\n\u001b[0;32m    327\u001b[0m         msg\u001b[38;5;241m.\u001b[39mformat(arguments\u001b[38;5;241m=\u001b[39m_format_argument_list(allow_args)),\n\u001b[0;32m    328\u001b[0m         \u001b[38;5;167;01mFutureWarning\u001b[39;00m,\n\u001b[0;32m    329\u001b[0m         stacklevel\u001b[38;5;241m=\u001b[39mfind_stack_level(),\n\u001b[0;32m    330\u001b[0m     )\n\u001b[1;32m--> 331\u001b[0m \u001b[38;5;28;01mreturn\u001b[39;00m \u001b[43mfunc\u001b[49m\u001b[43m(\u001b[49m\u001b[38;5;241;43m*\u001b[39;49m\u001b[43margs\u001b[49m\u001b[43m,\u001b[49m\u001b[43m \u001b[49m\u001b[38;5;241;43m*\u001b[39;49m\u001b[38;5;241;43m*\u001b[39;49m\u001b[43mkwargs\u001b[49m\u001b[43m)\u001b[49m\n",
      "File \u001b[1;32mC:\\Program Files (x86)\\Microsoft Visual Studio\\Shared\\Anaconda3_64\\lib\\site-packages\\pandas\\io\\parsers\\readers.py:950\u001b[0m, in \u001b[0;36mread_csv\u001b[1;34m(filepath_or_buffer, sep, delimiter, header, names, index_col, usecols, squeeze, prefix, mangle_dupe_cols, dtype, engine, converters, true_values, false_values, skipinitialspace, skiprows, skipfooter, nrows, na_values, keep_default_na, na_filter, verbose, skip_blank_lines, parse_dates, infer_datetime_format, keep_date_col, date_parser, dayfirst, cache_dates, iterator, chunksize, compression, thousands, decimal, lineterminator, quotechar, quoting, doublequote, escapechar, comment, encoding, encoding_errors, dialect, error_bad_lines, warn_bad_lines, on_bad_lines, delim_whitespace, low_memory, memory_map, float_precision, storage_options)\u001b[0m\n\u001b[0;32m    935\u001b[0m kwds_defaults \u001b[38;5;241m=\u001b[39m _refine_defaults_read(\n\u001b[0;32m    936\u001b[0m     dialect,\n\u001b[0;32m    937\u001b[0m     delimiter,\n\u001b[1;32m   (...)\u001b[0m\n\u001b[0;32m    946\u001b[0m     defaults\u001b[38;5;241m=\u001b[39m{\u001b[38;5;124m\"\u001b[39m\u001b[38;5;124mdelimiter\u001b[39m\u001b[38;5;124m\"\u001b[39m: \u001b[38;5;124m\"\u001b[39m\u001b[38;5;124m,\u001b[39m\u001b[38;5;124m\"\u001b[39m},\n\u001b[0;32m    947\u001b[0m )\n\u001b[0;32m    948\u001b[0m kwds\u001b[38;5;241m.\u001b[39mupdate(kwds_defaults)\n\u001b[1;32m--> 950\u001b[0m \u001b[38;5;28;01mreturn\u001b[39;00m \u001b[43m_read\u001b[49m\u001b[43m(\u001b[49m\u001b[43mfilepath_or_buffer\u001b[49m\u001b[43m,\u001b[49m\u001b[43m \u001b[49m\u001b[43mkwds\u001b[49m\u001b[43m)\u001b[49m\n",
      "File \u001b[1;32mC:\\Program Files (x86)\\Microsoft Visual Studio\\Shared\\Anaconda3_64\\lib\\site-packages\\pandas\\io\\parsers\\readers.py:605\u001b[0m, in \u001b[0;36m_read\u001b[1;34m(filepath_or_buffer, kwds)\u001b[0m\n\u001b[0;32m    602\u001b[0m _validate_names(kwds\u001b[38;5;241m.\u001b[39mget(\u001b[38;5;124m\"\u001b[39m\u001b[38;5;124mnames\u001b[39m\u001b[38;5;124m\"\u001b[39m, \u001b[38;5;28;01mNone\u001b[39;00m))\n\u001b[0;32m    604\u001b[0m \u001b[38;5;66;03m# Create the parser.\u001b[39;00m\n\u001b[1;32m--> 605\u001b[0m parser \u001b[38;5;241m=\u001b[39m \u001b[43mTextFileReader\u001b[49m\u001b[43m(\u001b[49m\u001b[43mfilepath_or_buffer\u001b[49m\u001b[43m,\u001b[49m\u001b[43m \u001b[49m\u001b[38;5;241;43m*\u001b[39;49m\u001b[38;5;241;43m*\u001b[39;49m\u001b[43mkwds\u001b[49m\u001b[43m)\u001b[49m\n\u001b[0;32m    607\u001b[0m \u001b[38;5;28;01mif\u001b[39;00m chunksize \u001b[38;5;129;01mor\u001b[39;00m iterator:\n\u001b[0;32m    608\u001b[0m     \u001b[38;5;28;01mreturn\u001b[39;00m parser\n",
      "File \u001b[1;32mC:\\Program Files (x86)\\Microsoft Visual Studio\\Shared\\Anaconda3_64\\lib\\site-packages\\pandas\\io\\parsers\\readers.py:1442\u001b[0m, in \u001b[0;36mTextFileReader.__init__\u001b[1;34m(self, f, engine, **kwds)\u001b[0m\n\u001b[0;32m   1439\u001b[0m     \u001b[38;5;28mself\u001b[39m\u001b[38;5;241m.\u001b[39moptions[\u001b[38;5;124m\"\u001b[39m\u001b[38;5;124mhas_index_names\u001b[39m\u001b[38;5;124m\"\u001b[39m] \u001b[38;5;241m=\u001b[39m kwds[\u001b[38;5;124m\"\u001b[39m\u001b[38;5;124mhas_index_names\u001b[39m\u001b[38;5;124m\"\u001b[39m]\n\u001b[0;32m   1441\u001b[0m \u001b[38;5;28mself\u001b[39m\u001b[38;5;241m.\u001b[39mhandles: IOHandles \u001b[38;5;241m|\u001b[39m \u001b[38;5;28;01mNone\u001b[39;00m \u001b[38;5;241m=\u001b[39m \u001b[38;5;28;01mNone\u001b[39;00m\n\u001b[1;32m-> 1442\u001b[0m \u001b[38;5;28mself\u001b[39m\u001b[38;5;241m.\u001b[39m_engine \u001b[38;5;241m=\u001b[39m \u001b[38;5;28;43mself\u001b[39;49m\u001b[38;5;241;43m.\u001b[39;49m\u001b[43m_make_engine\u001b[49m\u001b[43m(\u001b[49m\u001b[43mf\u001b[49m\u001b[43m,\u001b[49m\u001b[43m \u001b[49m\u001b[38;5;28;43mself\u001b[39;49m\u001b[38;5;241;43m.\u001b[39;49m\u001b[43mengine\u001b[49m\u001b[43m)\u001b[49m\n",
      "File \u001b[1;32mC:\\Program Files (x86)\\Microsoft Visual Studio\\Shared\\Anaconda3_64\\lib\\site-packages\\pandas\\io\\parsers\\readers.py:1735\u001b[0m, in \u001b[0;36mTextFileReader._make_engine\u001b[1;34m(self, f, engine)\u001b[0m\n\u001b[0;32m   1733\u001b[0m     \u001b[38;5;28;01mif\u001b[39;00m \u001b[38;5;124m\"\u001b[39m\u001b[38;5;124mb\u001b[39m\u001b[38;5;124m\"\u001b[39m \u001b[38;5;129;01mnot\u001b[39;00m \u001b[38;5;129;01min\u001b[39;00m mode:\n\u001b[0;32m   1734\u001b[0m         mode \u001b[38;5;241m+\u001b[39m\u001b[38;5;241m=\u001b[39m \u001b[38;5;124m\"\u001b[39m\u001b[38;5;124mb\u001b[39m\u001b[38;5;124m\"\u001b[39m\n\u001b[1;32m-> 1735\u001b[0m \u001b[38;5;28mself\u001b[39m\u001b[38;5;241m.\u001b[39mhandles \u001b[38;5;241m=\u001b[39m \u001b[43mget_handle\u001b[49m\u001b[43m(\u001b[49m\n\u001b[0;32m   1736\u001b[0m \u001b[43m    \u001b[49m\u001b[43mf\u001b[49m\u001b[43m,\u001b[49m\n\u001b[0;32m   1737\u001b[0m \u001b[43m    \u001b[49m\u001b[43mmode\u001b[49m\u001b[43m,\u001b[49m\n\u001b[0;32m   1738\u001b[0m \u001b[43m    \u001b[49m\u001b[43mencoding\u001b[49m\u001b[38;5;241;43m=\u001b[39;49m\u001b[38;5;28;43mself\u001b[39;49m\u001b[38;5;241;43m.\u001b[39;49m\u001b[43moptions\u001b[49m\u001b[38;5;241;43m.\u001b[39;49m\u001b[43mget\u001b[49m\u001b[43m(\u001b[49m\u001b[38;5;124;43m\"\u001b[39;49m\u001b[38;5;124;43mencoding\u001b[39;49m\u001b[38;5;124;43m\"\u001b[39;49m\u001b[43m,\u001b[49m\u001b[43m \u001b[49m\u001b[38;5;28;43;01mNone\u001b[39;49;00m\u001b[43m)\u001b[49m\u001b[43m,\u001b[49m\n\u001b[0;32m   1739\u001b[0m \u001b[43m    \u001b[49m\u001b[43mcompression\u001b[49m\u001b[38;5;241;43m=\u001b[39;49m\u001b[38;5;28;43mself\u001b[39;49m\u001b[38;5;241;43m.\u001b[39;49m\u001b[43moptions\u001b[49m\u001b[38;5;241;43m.\u001b[39;49m\u001b[43mget\u001b[49m\u001b[43m(\u001b[49m\u001b[38;5;124;43m\"\u001b[39;49m\u001b[38;5;124;43mcompression\u001b[39;49m\u001b[38;5;124;43m\"\u001b[39;49m\u001b[43m,\u001b[49m\u001b[43m \u001b[49m\u001b[38;5;28;43;01mNone\u001b[39;49;00m\u001b[43m)\u001b[49m\u001b[43m,\u001b[49m\n\u001b[0;32m   1740\u001b[0m \u001b[43m    \u001b[49m\u001b[43mmemory_map\u001b[49m\u001b[38;5;241;43m=\u001b[39;49m\u001b[38;5;28;43mself\u001b[39;49m\u001b[38;5;241;43m.\u001b[39;49m\u001b[43moptions\u001b[49m\u001b[38;5;241;43m.\u001b[39;49m\u001b[43mget\u001b[49m\u001b[43m(\u001b[49m\u001b[38;5;124;43m\"\u001b[39;49m\u001b[38;5;124;43mmemory_map\u001b[39;49m\u001b[38;5;124;43m\"\u001b[39;49m\u001b[43m,\u001b[49m\u001b[43m \u001b[49m\u001b[38;5;28;43;01mFalse\u001b[39;49;00m\u001b[43m)\u001b[49m\u001b[43m,\u001b[49m\n\u001b[0;32m   1741\u001b[0m \u001b[43m    \u001b[49m\u001b[43mis_text\u001b[49m\u001b[38;5;241;43m=\u001b[39;49m\u001b[43mis_text\u001b[49m\u001b[43m,\u001b[49m\n\u001b[0;32m   1742\u001b[0m \u001b[43m    \u001b[49m\u001b[43merrors\u001b[49m\u001b[38;5;241;43m=\u001b[39;49m\u001b[38;5;28;43mself\u001b[39;49m\u001b[38;5;241;43m.\u001b[39;49m\u001b[43moptions\u001b[49m\u001b[38;5;241;43m.\u001b[39;49m\u001b[43mget\u001b[49m\u001b[43m(\u001b[49m\u001b[38;5;124;43m\"\u001b[39;49m\u001b[38;5;124;43mencoding_errors\u001b[39;49m\u001b[38;5;124;43m\"\u001b[39;49m\u001b[43m,\u001b[49m\u001b[43m \u001b[49m\u001b[38;5;124;43m\"\u001b[39;49m\u001b[38;5;124;43mstrict\u001b[39;49m\u001b[38;5;124;43m\"\u001b[39;49m\u001b[43m)\u001b[49m\u001b[43m,\u001b[49m\n\u001b[0;32m   1743\u001b[0m \u001b[43m    \u001b[49m\u001b[43mstorage_options\u001b[49m\u001b[38;5;241;43m=\u001b[39;49m\u001b[38;5;28;43mself\u001b[39;49m\u001b[38;5;241;43m.\u001b[39;49m\u001b[43moptions\u001b[49m\u001b[38;5;241;43m.\u001b[39;49m\u001b[43mget\u001b[49m\u001b[43m(\u001b[49m\u001b[38;5;124;43m\"\u001b[39;49m\u001b[38;5;124;43mstorage_options\u001b[39;49m\u001b[38;5;124;43m\"\u001b[39;49m\u001b[43m,\u001b[49m\u001b[43m \u001b[49m\u001b[38;5;28;43;01mNone\u001b[39;49;00m\u001b[43m)\u001b[49m\u001b[43m,\u001b[49m\n\u001b[0;32m   1744\u001b[0m \u001b[43m\u001b[49m\u001b[43m)\u001b[49m\n\u001b[0;32m   1745\u001b[0m \u001b[38;5;28;01massert\u001b[39;00m \u001b[38;5;28mself\u001b[39m\u001b[38;5;241m.\u001b[39mhandles \u001b[38;5;129;01mis\u001b[39;00m \u001b[38;5;129;01mnot\u001b[39;00m \u001b[38;5;28;01mNone\u001b[39;00m\n\u001b[0;32m   1746\u001b[0m f \u001b[38;5;241m=\u001b[39m \u001b[38;5;28mself\u001b[39m\u001b[38;5;241m.\u001b[39mhandles\u001b[38;5;241m.\u001b[39mhandle\n",
      "File \u001b[1;32mC:\\Program Files (x86)\\Microsoft Visual Studio\\Shared\\Anaconda3_64\\lib\\site-packages\\pandas\\io\\common.py:856\u001b[0m, in \u001b[0;36mget_handle\u001b[1;34m(path_or_buf, mode, encoding, compression, memory_map, is_text, errors, storage_options)\u001b[0m\n\u001b[0;32m    851\u001b[0m \u001b[38;5;28;01melif\u001b[39;00m \u001b[38;5;28misinstance\u001b[39m(handle, \u001b[38;5;28mstr\u001b[39m):\n\u001b[0;32m    852\u001b[0m     \u001b[38;5;66;03m# Check whether the filename is to be opened in binary mode.\u001b[39;00m\n\u001b[0;32m    853\u001b[0m     \u001b[38;5;66;03m# Binary mode does not support 'encoding' and 'newline'.\u001b[39;00m\n\u001b[0;32m    854\u001b[0m     \u001b[38;5;28;01mif\u001b[39;00m ioargs\u001b[38;5;241m.\u001b[39mencoding \u001b[38;5;129;01mand\u001b[39;00m \u001b[38;5;124m\"\u001b[39m\u001b[38;5;124mb\u001b[39m\u001b[38;5;124m\"\u001b[39m \u001b[38;5;129;01mnot\u001b[39;00m \u001b[38;5;129;01min\u001b[39;00m ioargs\u001b[38;5;241m.\u001b[39mmode:\n\u001b[0;32m    855\u001b[0m         \u001b[38;5;66;03m# Encoding\u001b[39;00m\n\u001b[1;32m--> 856\u001b[0m         handle \u001b[38;5;241m=\u001b[39m \u001b[38;5;28;43mopen\u001b[39;49m\u001b[43m(\u001b[49m\n\u001b[0;32m    857\u001b[0m \u001b[43m            \u001b[49m\u001b[43mhandle\u001b[49m\u001b[43m,\u001b[49m\n\u001b[0;32m    858\u001b[0m \u001b[43m            \u001b[49m\u001b[43mioargs\u001b[49m\u001b[38;5;241;43m.\u001b[39;49m\u001b[43mmode\u001b[49m\u001b[43m,\u001b[49m\n\u001b[0;32m    859\u001b[0m \u001b[43m            \u001b[49m\u001b[43mencoding\u001b[49m\u001b[38;5;241;43m=\u001b[39;49m\u001b[43mioargs\u001b[49m\u001b[38;5;241;43m.\u001b[39;49m\u001b[43mencoding\u001b[49m\u001b[43m,\u001b[49m\n\u001b[0;32m    860\u001b[0m \u001b[43m            \u001b[49m\u001b[43merrors\u001b[49m\u001b[38;5;241;43m=\u001b[39;49m\u001b[43merrors\u001b[49m\u001b[43m,\u001b[49m\n\u001b[0;32m    861\u001b[0m \u001b[43m            \u001b[49m\u001b[43mnewline\u001b[49m\u001b[38;5;241;43m=\u001b[39;49m\u001b[38;5;124;43m\"\u001b[39;49m\u001b[38;5;124;43m\"\u001b[39;49m\u001b[43m,\u001b[49m\n\u001b[0;32m    862\u001b[0m \u001b[43m        \u001b[49m\u001b[43m)\u001b[49m\n\u001b[0;32m    863\u001b[0m     \u001b[38;5;28;01melse\u001b[39;00m:\n\u001b[0;32m    864\u001b[0m         \u001b[38;5;66;03m# Binary mode\u001b[39;00m\n\u001b[0;32m    865\u001b[0m         handle \u001b[38;5;241m=\u001b[39m \u001b[38;5;28mopen\u001b[39m(handle, ioargs\u001b[38;5;241m.\u001b[39mmode)\n",
      "\u001b[1;31mFileNotFoundError\u001b[0m: [Errno 2] No such file or directory: 'Data/measurements.csv'"
     ]
    }
   ],
   "source": [
    "df = pd.read_csv('Data/measurements.csv', index_col=0).sort_values('phase')\n",
    "# Assuming this should be a sine wave\n",
    "x = np.linspace(0.0, 2.0*np.pi, 1000)\n",
    "y = np.sin(x)\n",
    "# Let's adopt some typical measurement errors\n",
    "yerr = 0.05\n",
    "\n",
    "# Guess at what value should be for each measured value\n",
    "y_guess = np.sin(df['phase'])\n",
    "# What are the residuals? How do they compare to the measurement error?\n",
    "df['residual'] = df['value'] - y_guess\n",
    "df['significance'] = df.residual.abs() / yerr\n",
    "df.describe()"
   ]
  },
  {
   "cell_type": "code",
   "execution_count": null,
   "id": "f02317c1-b610-41e5-a83e-4a5251436800",
   "metadata": {},
   "outputs": [],
   "source": [
    "def plot_sine_measurements():\n",
    "    \"\"\"\n",
    "    Plotting the measurements and residuals\n",
    "    \"\"\"\n",
    "    plt.figure(dpi=144)\n",
    "\n",
    "    # plot errorbar\n",
    "    plt.errorbar(df['phase'], df['value'], yerr=yerr, lw=0, elinewidth=1, marker='o', ms=4)\n",
    "\n",
    "    # plot what values should be\n",
    "    plt.plot(x, y, 'k-')\n",
    "\n",
    "    # plot error margin of 'model' (typically confidence of predictions)\n",
    "    plt.fill_between(x, y - yerr, y + yerr, alpha=0.25, color='black')\n",
    "\n",
    "    # highlight significant outliers\n",
    "    df_sig = df[df.significance > 2].copy()\n",
    "    plt.errorbar(df_sig['phase'], df_sig['value'], yerr=yerr, lw=0, elinewidth=1, marker='o', ms=4, color='red')\n",
    "\n",
    "    plt.xlim(x.min(), x.max())\n",
    "    plt.xlabel('Phase')\n",
    "    plt.ylabel('f(x)')\n",
    "    plt.show()\n",
    "    return"
   ]
  },
  {
   "cell_type": "code",
   "execution_count": null,
   "id": "fc034044-d3a0-4507-8f73-135705380d53",
   "metadata": {},
   "outputs": [],
   "source": [
    "plot_sine_measurements()"
   ]
  },
  {
   "cell_type": "markdown",
   "id": "53a9a673-bdd3-472c-aba5-e1e2593a4a7a",
   "metadata": {},
   "source": [
    "# Exercise 2\n",
    "- Create an array of 200 $x$ values from -10 to 10.\n",
    "- Define a quadratic function $y=ax^2+bx+c$. For example, use $a=1$, $b=2$, $c=3$.\n",
    "- Add random noise to the y values to simulate measurement errors, you can use $\\mu=1$ and $\\sigma=5$.\n",
    "\n",
    "- Plot these values as a scatter plot with errorbars, with the an expected error of 5 as a confidence band around the true function."
   ]
  },
  {
   "cell_type": "code",
   "execution_count": null,
   "id": "40c91cd5-31ea-4ee0-add3-b47644841537",
   "metadata": {},
   "outputs": [],
   "source": [
    "def plot_random_quadratic():\n",
    "    \"\"\"\n",
    "    Plots the quadratic with measurement noise\n",
    "    \"\"\"\n",
    "    return"
   ]
  },
  {
   "cell_type": "code",
   "execution_count": null,
   "id": "58d61256-70a6-4b20-85bd-15dd80008a51",
   "metadata": {},
   "outputs": [],
   "source": [
    "plot_random_quadratic()"
   ]
  },
  {
   "cell_type": "markdown",
   "id": "ce534a64-40ca-4524-afc8-dd25c473e24d",
   "metadata": {},
   "source": [
    "## End Exercise 2\n",
    "\n",
    "To finish, let's think about combining distributions and correlations with pair plots/ corner plots."
   ]
  },
  {
   "cell_type": "code",
   "execution_count": null,
   "id": "8443b123-d7f1-4cb1-aa61-11b0e169596c",
   "metadata": {},
   "outputs": [],
   "source": [
    "x = np.random.choice(np.linspace(-100, 100, 400), 400)\n",
    "x2 = np.random.uniform(50, -150, 400)\n",
    "x3 = np.random.normal(25, 100, 400)\n",
    "y1 = x * np.random.normal(2, 0.2, x.size)\n",
    "y2 = x * np.random.normal(2, 0.1, x.size) + x3\n",
    "y3 = x2 / np.random.normal(2, 0.4, x2.size) - np.random.normal(0, 5, x2.size)\n",
    "df = pd.DataFrame(data=dict(x=x, x2=x2, x3=x3, y1=y1, y2=y2, y3=y3))\n",
    "df.corr()"
   ]
  },
  {
   "cell_type": "code",
   "execution_count": null,
   "id": "84e0acb8-43dd-4354-9feb-2831927c03b4",
   "metadata": {},
   "outputs": [],
   "source": [
    "def plot_pairplot(data):\n",
    "    \"\"\"\n",
    "    Create a pairplot of some random correlated data\n",
    "    \"\"\"\n",
    "    sns.pairplot(data, corner=True)\n",
    "    plt.show()\n",
    "    return"
   ]
  },
  {
   "cell_type": "code",
   "execution_count": null,
   "id": "ad449e2a-0137-4462-938d-15e3968985cd",
   "metadata": {},
   "outputs": [],
   "source": [
    "#  Note that most installations do not have corner installed. Uncomment and run the command below (but only once)\n",
    "#  !pip install corner\n",
    "from corner import corner"
   ]
  },
  {
   "cell_type": "code",
   "execution_count": null,
   "id": "ccd891d7-6a0e-4e88-8392-00df9528eb11",
   "metadata": {},
   "outputs": [],
   "source": [
    "def plot_cornerplot(data):\n",
    "    \"\"\"\n",
    "    Create a corner plot\n",
    "    \"\"\"\n",
    "    fig = corner(data, show_titles=True, quantiles=[0.25, 0.5, 0.75], labels=df.columns)\n",
    "    plt.show()\n",
    "    return"
   ]
  },
  {
   "cell_type": "code",
   "execution_count": null,
   "id": "aeab37b8-0da5-493e-aa22-3788d3b6ce03",
   "metadata": {},
   "outputs": [],
   "source": [
    "plot_pairplot(df)"
   ]
  },
  {
   "cell_type": "code",
   "execution_count": null,
   "id": "e6ffdf99-bab2-448f-bdf2-e350ab674f0d",
   "metadata": {},
   "outputs": [],
   "source": [
    "plot_cornerplot(df)"
   ]
  },
  {
   "cell_type": "markdown",
   "id": "b8985d3d-59af-4b21-8c30-a5de0ffe4736",
   "metadata": {},
   "source": [
    "# Exercise 3\n",
    "Use the two samples below and plot them seperately as a pair plot and corner plot.\n",
    "When done, save the notebook and upload it into your new GitHub repository"
   ]
  },
  {
   "cell_type": "code",
   "execution_count": null,
   "id": "687945ba-e670-4530-bb5b-3075bf64de15",
   "metadata": {},
   "outputs": [],
   "source": [
    "uncorrelated_data = np.random.normal(size=(100, 3))\n",
    "df_uncorrelated = pd.DataFrame(uncorrelated_data, columns=['X', 'Y', 'Z'])\n",
    "\n",
    "mean = np.random.uniform(size=3)\n",
    "random_matrix = np.random.rand(3, 3)\n",
    "cov = np.dot(random_matrix, random_matrix.T)\n",
    "correlated_data = np.random.multivariate_normal(mean, cov, size=100)\n",
    "df_correlated = pd.DataFrame(correlated_data, columns=['X', 'Y', 'Z'])"
   ]
  },
  {
   "cell_type": "code",
   "execution_count": null,
   "id": "8b1e6d56-2671-4e56-907c-2a46716ae16e",
   "metadata": {},
   "outputs": [],
   "source": []
  },
  {
   "cell_type": "markdown",
   "id": "817c6fbc-5699-4756-87c4-51886bcca2ec",
   "metadata": {},
   "source": [
    "## End Exercise 3"
   ]
  }
 ],
 "metadata": {
  "kernelspec": {
   "display_name": "Python 3 (ipykernel)",
   "language": "python",
   "name": "python3"
  },
  "language_info": {
   "codemirror_mode": {
    "name": "ipython",
    "version": 3
   },
   "file_extension": ".py",
   "mimetype": "text/x-python",
   "name": "python",
   "nbconvert_exporter": "python",
   "pygments_lexer": "ipython3",
   "version": "3.8.16"
  }
 },
 "nbformat": 4,
 "nbformat_minor": 5
}
